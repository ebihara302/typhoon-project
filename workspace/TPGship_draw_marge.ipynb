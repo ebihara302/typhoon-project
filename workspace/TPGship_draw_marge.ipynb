{
 "cells": [
  {
   "cell_type": "markdown",
   "id": "fc2ff88c",
   "metadata": {},
   "source": [
    "# TPGshipのシミュレーション動画作成プログラム（2/4）\n",
    "\n",
    "## 運用動作画像と動作時のグラフ図の合体"
   ]
  },
  {
   "cell_type": "markdown",
   "id": "87bd9cfb",
   "metadata": {},
   "source": [
    "ライブラリ読み込み"
   ]
  },
  {
   "cell_type": "code",
   "execution_count": 1,
   "id": "0d09a781",
   "metadata": {},
   "outputs": [],
   "source": [
    "import cartopy.crs as ccrs\n",
    "import os\n",
    "import matplotlib.pyplot as plt\n",
    "from matplotlib import gridspec\n",
    "import scienceplots\n",
    "import polars as pl\n",
    "import numpy as np\n",
    "import math\n",
    "from numpy import linalg as LA\n",
    "import cartopy.feature as cfeature\n",
    "from PIL import Image\n",
    "import matplotlib.patches as patches\n",
    "from datetime import datetime, timedelta, timezone\n",
    "from dateutil import tz\n"
   ]
  },
  {
   "cell_type": "markdown",
   "id": "af970f14",
   "metadata": {},
   "source": [
    "データファイル読み取り\n",
    "\n",
    "台風＆TPGship経路データ"
   ]
  },
  {
   "cell_type": "code",
   "execution_count": 2,
   "id": "77014ee2",
   "metadata": {},
   "outputs": [],
   "source": [
    "year = 2018\n",
    "\n",
    "ship_typhoon_route_data = pl.read_csv(\"TPGshipdata_ver5/\" + str(year) + \"_sim_ver5.csv\",encoding=\"shift-jis\")\n"
   ]
  },
  {
   "cell_type": "markdown",
   "id": "901fb87a",
   "metadata": {},
   "source": [
    "TPGshipの動作画像＋動作時のグラフ画像の接合"
   ]
  },
  {
   "cell_type": "code",
   "execution_count": 4,
   "id": "3cd54ee9",
   "metadata": {},
   "outputs": [],
   "source": [
    "# グラフ保存用のフォルダがなければ作成\n",
    "os.makedirs(\"png_Folder\", exist_ok=True)\n",
    "\n",
    "for j in range(len(ship_typhoon_route_data)):\n",
    "#for j in range(1):\n",
    "#    j_ori = j\n",
    "#    j = j + 1310\n",
    "    #地図の作成\n",
    "    fig = plt.figure(figsize=(25,16)) # プロット領域の作成（matplotlib）\n",
    "    ncols = 1\n",
    "    nrows = 5\n",
    "    #gs = gridspec.GridSpec(nrows, ncols, width_ratios=[1, 1], height_ratios=[1, 1])\n",
    "\n",
    "    sim_fig = Image.open(\"png_Folder2/draw\" + str(j) + \".png\")\n",
    "    \n",
    "    ax = fig.add_subplot(1,5,(1,3))\n",
    "    ax.imshow(sim_fig)\n",
    "    ax.axis(\"off\")\n",
    "\n",
    "    graf_fig = Image.open(\"png_Folder3/draw\" + str(j) + \".png\")\n",
    "\n",
    "    ax1 = fig.add_subplot(1,5,(4,5))\n",
    "    ax1.imshow(graf_fig)\n",
    "    ax1.axis(\"off\")\n",
    "\n",
    "    plt.savefig(\"png_Folder/draw\" + str(j) + \".png\")\n",
    "    plt.close(fig)\n",
    "\n",
    "    im = Image.open(\"png_Folder/draw\" + str(j) + \".png\")\n",
    "\n",
    "    im_crop = im.crop((270, 130, 1630, 1010))\n",
    "    \n",
    "    im_crop.save(\"png_Folder/draw\" + str(j) + \".png\", quality=100)\n",
    "    \n",
    "\n",
    "\n"
   ]
  }
 ],
 "metadata": {
  "kernelspec": {
   "display_name": "Python 3 (ipykernel)",
   "language": "python",
   "name": "python3"
  },
  "language_info": {
   "codemirror_mode": {
    "name": "ipython",
    "version": 3
   },
   "file_extension": ".py",
   "mimetype": "text/x-python",
   "name": "python",
   "nbconvert_exporter": "python",
   "pygments_lexer": "ipython3",
   "version": "3.10.12"
  },
  "vscode": {
   "interpreter": {
    "hash": "e7370f93d1d0cde622a1f8e1c04877d8463912d04d973331ad4851f04de6915a"
   }
  }
 },
 "nbformat": 4,
 "nbformat_minor": 5
}
