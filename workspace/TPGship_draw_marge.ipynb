{
 "cells": [
  {
   "cell_type": "markdown",
   "id": "fc2ff88c",
   "metadata": {},
   "source": [
    "# TPGshipのシミュレーション動画作成プログラム（2/4）\n",
    "\n",
    "## 運用動作画像と動作時のグラフ図の合体"
   ]
  },
  {
   "cell_type": "markdown",
   "id": "87bd9cfb",
   "metadata": {},
   "source": [
    "ライブラリ読み込み"
   ]
  },
  {
   "cell_type": "code",
   "execution_count": 1,
   "id": "0d09a781",
   "metadata": {},
   "outputs": [],
   "source": [
    "import cartopy.crs as ccrs\n",
    "import os\n",
    "import matplotlib.pyplot as plt\n",
    "from matplotlib import gridspec\n",
    "import scienceplots\n",
    "import polars as pl\n",
    "import numpy as np\n",
    "import math\n",
    "from numpy import linalg as LA\n",
    "import cartopy.feature as cfeature\n",
    "from PIL import Image\n",
    "import matplotlib.patches as patches\n",
    "from datetime import datetime, timedelta, timezone\n",
    "from dateutil import tz\n",
    "import os\n",
    "from tqdm import tqdm\n"
   ]
  },
  {
   "cell_type": "markdown",
   "id": "af970f14",
   "metadata": {},
   "source": [
    "データファイル読み取り\n",
    "\n",
    "台風＆TPGship経路データ"
   ]
  },
  {
   "cell_type": "code",
   "execution_count": 2,
   "id": "77014ee2",
   "metadata": {},
   "outputs": [],
   "source": [
    "year = 2023\n",
    "\n",
    "TPGship_data = pl.read_csv(\"output_Folder/TPGshipdata/\" + str(year) + \"_sim_operation_data+wind+sail+elect_trust.csv\")\n"
   ]
  },
  {
   "cell_type": "markdown",
   "id": "901fb87a",
   "metadata": {},
   "source": [
    "TPGshipの動作画像＋動作時のグラフ画像の接合"
   ]
  },
  {
   "cell_type": "code",
   "execution_count": 3,
   "id": "afbb47cc",
   "metadata": {},
   "outputs": [
    {
     "name": "stderr",
     "output_type": "stream",
     "text": [
      "100%|██████████| 1461/1461 [52:00<00:00,  2.14s/it]\n"
     ]
    }
   ],
   "source": [
    "\n",
    "def get_concat_h_resize(im1, im2, resample=Image.BICUBIC, resize_big_image=True):\n",
    "    if im1.height == im2.height:\n",
    "        _im1 = im1\n",
    "        _im2 = im2\n",
    "    elif (((im1.height > im2.height) and resize_big_image) or\n",
    "          ((im1.height < im2.height) and not resize_big_image)):\n",
    "        _im1 = im1.resize((int(im1.width * im2.height / im1.height), im2.height), resample=resample)\n",
    "        _im2 = im2\n",
    "    else:\n",
    "        _im1 = im1\n",
    "        _im2 = im2.resize((int(im2.width * im1.height / im2.height), im1.height), resample=resample)\n",
    "    dst = Image.new('RGB', (_im1.width + _im2.width, _im1.height))\n",
    "    dst.paste(_im1, (0, 0))\n",
    "    dst.paste(_im2, (_im1.width, 0))\n",
    "    return dst\n",
    "    \n",
    "# グラフ保存用のフォルダがなければ作成\n",
    "os.makedirs(\"png_Folder\", exist_ok=True)\n",
    "\n",
    "for j in tqdm(range(len(TPGship_data))):\n",
    "    sim_fig = Image.open(\"png_Folder2/draw\" + str(j) + \".png\")\n",
    "    graf_fig = Image.open(\"png_Folder3/draw\" + str(j) + \".png\") \n",
    "    merge_fig = get_concat_h_resize(sim_fig,graf_fig)\n",
    "    merge_fig.save(\"png_Folder/draw\" + str(j) + \".png\")"
   ]
  }
 ],
 "metadata": {
  "kernelspec": {
   "display_name": "Python 3 (ipykernel)",
   "language": "python",
   "name": "python3"
  },
  "language_info": {
   "codemirror_mode": {
    "name": "ipython",
    "version": 3
   },
   "file_extension": ".py",
   "mimetype": "text/x-python",
   "name": "python",
   "nbconvert_exporter": "python",
   "pygments_lexer": "ipython3",
   "version": "3.11.7"
  },
  "vscode": {
   "interpreter": {
    "hash": "e7370f93d1d0cde622a1f8e1c04877d8463912d04d973331ad4851f04de6915a"
   }
  }
 },
 "nbformat": 4,
 "nbformat_minor": 5
}
