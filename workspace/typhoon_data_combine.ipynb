{
 "cells": [
  {
   "cell_type": "code",
   "execution_count": 4,
   "metadata": {},
   "outputs": [
    {
     "name": "stdout",
     "output_type": "stream",
     "text": [
      "Combined CSV file created: combine_file/combined_typhoon_data_2019-2023.csv\n"
     ]
    }
   ],
   "source": [
    "import polars as pl\n",
    "import os\n",
    "\n",
    "def combine_typhoon_data(file_paths, output_file):\n",
    "    # 各ファイルを読み込んでデータフレームのリストを作成\n",
    "    dfs = [pl.read_csv(file_path) for file_path in file_paths]\n",
    "\n",
    "    # データフレームを結合\n",
    "    combined_df = pl.concat(dfs).sort(\"unixtime\")\n",
    "\n",
    "    # 新しいCSVファイルとして保存\n",
    "    combined_df.write_csv(output_file)\n",
    "\n",
    "# 使用例\n",
    "time_step = 6  # 6時間間隔のデータを結合する例\n",
    "start_year = 2019\n",
    "end_year = 2023\n",
    "years = range(start_year, end_year + 1)  # 例として2018年から2019年まで\n",
    "file_paths = [f'typhoon_data_' + str(int(time_step)) + 'hour_intervals_verpl/table' + str(year) + '_' + str(int(time_step)) + '_interval.csv' for year in years]\n",
    "os.makedirs(\"combine_file\", exist_ok=True)\n",
    "output_file = 'combine_file/combined_typhoon_data_' + str(start_year) + '-' + str(end_year) + '.csv'\n",
    "\n",
    "combine_typhoon_data(file_paths, output_file)\n",
    "\n",
    "print(f\"Combined CSV file created: {output_file}\")\n"
   ]
  }
 ],
 "metadata": {
  "kernelspec": {
   "display_name": "base",
   "language": "python",
   "name": "python3"
  },
  "language_info": {
   "codemirror_mode": {
    "name": "ipython",
    "version": 3
   },
   "file_extension": ".py",
   "mimetype": "text/x-python",
   "name": "python",
   "nbconvert_exporter": "python",
   "pygments_lexer": "ipython3",
   "version": "3.11.7"
  }
 },
 "nbformat": 4,
 "nbformat_minor": 2
}
