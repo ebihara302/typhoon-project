{
 "cells": [
  {
   "cell_type": "markdown",
   "id": "fc2ff88c",
   "metadata": {},
   "source": [
    "# TPGshipのシミュレーション動画作成プログラム（4/4）\n",
    "\n",
    "## 動画作成編"
   ]
  },
  {
   "cell_type": "markdown",
   "id": "87bd9cfb",
   "metadata": {},
   "source": [
    "ライブラリ読み込み"
   ]
  },
  {
   "cell_type": "code",
   "execution_count": 9,
   "id": "0d09a781",
   "metadata": {},
   "outputs": [],
   "source": [
    "import cartopy.crs as ccrs\n",
    "import os\n",
    "import matplotlib.pyplot as plt\n",
    "from matplotlib import gridspec\n",
    "import scienceplots\n",
    "import polars as pl\n",
    "import numpy as np\n",
    "import math\n",
    "from numpy import linalg as LA\n",
    "import cartopy.feature as cfeature\n",
    "from PIL import Image\n",
    "import matplotlib.patches as patches\n",
    "from datetime import datetime, timedelta, timezone\n",
    "from dateutil import tz\n",
    "import cv2\n",
    "import sys\n"
   ]
  },
  {
   "cell_type": "markdown",
   "id": "af970f14",
   "metadata": {},
   "source": [
    "データファイル読み取り\n",
    "\n",
    "台風＆TPGship経路データ"
   ]
  },
  {
   "cell_type": "code",
   "execution_count": 10,
   "id": "77014ee2",
   "metadata": {},
   "outputs": [],
   "source": [
    "year = 2018\n",
    "\n",
    "ship_typhoon_route_data = pl.read_csv(\"TPGshipdata_ver5/\" + str(year) + \"_sim_ver5.csv\",encoding=\"shift-jis\")\n",
    "\n",
    "typhoon_data = pl.read_csv(\"typhoon_data_6hour_intervals_verpl/table\" + str(year) + \"_6_interval.csv\",encoding=\"shift-jis\")"
   ]
  },
  {
   "cell_type": "markdown",
   "metadata": {},
   "source": [
    "拠点と運搬船"
   ]
  },
  {
   "cell_type": "code",
   "execution_count": 4,
   "metadata": {},
   "outputs": [],
   "source": [
    "stBASE_data = pl.read_csv(\"storageBASEdata_ver5/\" + str(year) + \"storageBASE.csv\")\n",
    "spSHIP1_data = pl.read_csv(\"supportSHIPdata_ver5/\" + str(year) + \"supportSHIP1.csv\")\n",
    "spSHIP2_data = pl.read_csv(\"supportSHIPdata_ver5/\" + str(year) + \"supportSHIP2.csv\") "
   ]
  },
  {
   "cell_type": "markdown",
   "id": "cb0cc950",
   "metadata": {},
   "source": [
    "動画化"
   ]
  },
  {
   "cell_type": "code",
   "execution_count": 16,
   "id": "040a2050",
   "metadata": {},
   "outputs": [],
   "source": [
    "import cv2\n",
    "import os\n",
    "\n",
    "def create_video_from_png(images_folder, output_video, fps=24):\n",
    "    # 画像のファイル名を取得し、番号部分を抽出して数値順にソートする\n",
    "    image_files = [os.path.join(images_folder, file) for file in sorted(os.listdir(images_folder), key=lambda x: int(x.split('.')[0].split('draw')[1])) if file.startswith('draw') and file.endswith('.png')]\n",
    "\n",
    "    # 画像サイズを取得\n",
    "    img = cv2.imread(image_files[0])\n",
    "    height, width, _ = img.shape\n",
    "\n",
    "    # 動画フォーマットを指定して動画ライターを作成\n",
    "    fourcc = cv2.VideoWriter_fourcc(*'mp4v')  # Macで動作するMP4形式を指定\n",
    "    out = cv2.VideoWriter(output_video, fourcc, fps, (width, height))\n",
    "\n",
    "    # 画像を動画に書き込む\n",
    "    for image_file in image_files:\n",
    "        img = cv2.imread(image_file)\n",
    "        out.write(img)\n",
    "\n",
    "    # 動画ライターを解放\n",
    "    out.release()\n",
    "\n",
    "# 例として、PNG画像が含まれるフォルダから動画ファイルを作成する\n",
    "create_video_from_png('png_Folder', 'output_Folder/output_video.mp4')\n"
   ]
  }
 ],
 "metadata": {
  "kernelspec": {
   "display_name": "Python 3 (ipykernel)",
   "language": "python",
   "name": "python3"
  },
  "language_info": {
   "codemirror_mode": {
    "name": "ipython",
    "version": 3
   },
   "file_extension": ".py",
   "mimetype": "text/x-python",
   "name": "python",
   "nbconvert_exporter": "python",
   "pygments_lexer": "ipython3",
   "version": "3.10.9"
  },
  "vscode": {
   "interpreter": {
    "hash": "e7370f93d1d0cde622a1f8e1c04877d8463912d04d973331ad4851f04de6915a"
   }
  }
 },
 "nbformat": 4,
 "nbformat_minor": 5
}
