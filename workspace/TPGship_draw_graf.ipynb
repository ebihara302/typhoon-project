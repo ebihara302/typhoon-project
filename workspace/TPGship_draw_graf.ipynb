{
 "cells": [
  {
   "cell_type": "markdown",
   "id": "fc2ff88c",
   "metadata": {},
   "source": [
    "# TPGshipのシミュレーション動画作成プログラム（2/4）\n",
    "\n",
    "## 動作時のグラフ図作成編"
   ]
  },
  {
   "cell_type": "markdown",
   "id": "87bd9cfb",
   "metadata": {},
   "source": [
    "ライブラリ読み込み"
   ]
  },
  {
   "cell_type": "code",
   "execution_count": 1,
   "id": "0d09a781",
   "metadata": {},
   "outputs": [],
   "source": [
    "import cartopy.crs as ccrs\n",
    "import os\n",
    "import matplotlib.pyplot as plt\n",
    "from matplotlib import gridspec\n",
    "import scienceplots\n",
    "import polars as pl\n",
    "import numpy as np\n",
    "import math\n",
    "from numpy import linalg as LA\n",
    "import cartopy.feature as cfeature\n",
    "from PIL import Image\n",
    "import matplotlib.patches as patches\n",
    "from datetime import datetime, timedelta, timezone\n",
    "from dateutil import tz\n"
   ]
  },
  {
   "cell_type": "markdown",
   "id": "af970f14",
   "metadata": {},
   "source": [
    "データファイル読み取り\n",
    "\n",
    "台風＆TPGship経路データ"
   ]
  },
  {
   "cell_type": "code",
   "execution_count": 2,
   "id": "77014ee2",
   "metadata": {},
   "outputs": [],
   "source": [
    "year = 2023\n",
    "\n",
    "TPGship_data = pl.read_csv(\"output_Folder/TPGshipdata/\" + str(year) + \"_sim_operation_data+wind+sail+elect_trust.csv\")\n",
    "\n",
    "typhoon_data = pl.read_csv(\"typhoon_data_6hour_intervals_verpl/table\" + str(year) + \"_6_interval.csv\",encoding=\"shift-jis\")"
   ]
  },
  {
   "cell_type": "markdown",
   "id": "1bf2149d",
   "metadata": {},
   "source": [
    "拠点と運搬船"
   ]
  },
  {
   "cell_type": "code",
   "execution_count": 3,
   "id": "722f4a1f",
   "metadata": {},
   "outputs": [],
   "source": [
    "stBASE_data = pl.read_csv(\"output_Folder/storageBASEdata/\" + str(year) + \"storageBASE+sail.csv\")"
   ]
  },
  {
   "cell_type": "markdown",
   "id": "901fb87a",
   "metadata": {},
   "source": [
    "TPGshipの動作時のグラフ画像化"
   ]
  },
  {
   "cell_type": "code",
   "execution_count": 4,
   "id": "91ac6f56",
   "metadata": {},
   "outputs": [
    {
     "name": "stderr",
     "output_type": "stream",
     "text": [
      "  0%|          | 4/1461 [00:25<2:29:12,  6.14s/it]"
     ]
    }
   ],
   "source": [
    "import os\n",
    "from tqdm import tqdm\n",
    "\n",
    "UTC = timezone(timedelta(hours =+ 0),\"UTC\")\n",
    "\n",
    "# グラフ保存用のフォルダがなければ作成\n",
    "os.makedirs(\"png_Folder3\", exist_ok=True)\n",
    "\n",
    "#データの整理\n",
    "totalgene = TPGship_data[\"YEARLY POWER GENERATION BALANCE\"]\n",
    "tg = []\n",
    "for i in range(len(totalgene)):\n",
    "    tg.append(totalgene[i]/10**9)\n",
    "\n",
    "onboardene = TPGship_data[\"ONBOARD ENERGY STORAGE[Wh]\"]\n",
    "obe = []\n",
    "for i in range(len(onboardene)):\n",
    "    obe.append(onboardene[i]/10**9)\n",
    "\n",
    "basestorage = stBASE_data[\"STORAGE[Wh]\"]\n",
    "base_data = []\n",
    "for i in range(len(basestorage)):\n",
    "    base_data.append(basestorage[i]/10**9)\n",
    "\n",
    "day = TPGship_data[\"unixtime\"]\n",
    "daylist = []\n",
    "for i in range(len(day)):\n",
    "    daylist.append((day[i]-day[0])/86400)\n",
    "\n",
    "#グラフの表示\n",
    "#今回は'science'と'ieee'を利用してみる\n",
    "plt.style.use(['science','ieee','high-vis','grid'])\n",
    "plt.rcParams[\"font.size\"] = 20\n",
    "\n",
    "\n",
    "fig = plt.figure(figsize=(10,16)) # プロット領域の作成（matplotlib）\n",
    "\n",
    "\n",
    "ax1 =  fig.add_subplot(3,1,1)\n",
    "ax1_xmin, ax1_xmax = 0, 365\n",
    "ax1_ymin, ax1_ymax = 0, 300\n",
    "ax1.set_xlim(xmin=ax1_xmin,xmax=ax1_xmax) #x軸の範囲を指定\n",
    "ax1.set_ylim(ymin=ax1_ymin,ymax=ax1_ymax) #y軸の範囲を指定\n",
    "ax1.set(xlabel = 'Operation Time[Day]') #x軸のラベル\n",
    "ax1.set(ylabel = 'Onboard MCH Storage[GWh]') #y軸のラベル\n",
    "ax1.plot(daylist,obe,label = 'ONBOARD', linewidth=3)\n",
    "\n",
    "ax2 =  fig.add_subplot(3,1,2)\n",
    "ax2_xmin, ax2_xmax = 0, 365\n",
    "ax2_ymin, ax2_ymax = 0, 350\n",
    "ax2.set_xlim(xmin=ax2_xmin,xmax=ax2_xmax) #x軸の範囲を指定\n",
    "ax2.set_ylim(ymin=ax2_ymin,ymax=ax2_ymax) #y軸の範囲を指定\n",
    "ax2.set(xlabel = 'Operation Time[Day]') #x軸のラベル\n",
    "ax2.set(ylabel = 'MCH Production[GWh]') #y軸のラベル\n",
    "ax2.plot(daylist,tg,label = 'TOTAL', linewidth=3)\n",
    "\n",
    "ax3 =  fig.add_subplot(3,1,3)\n",
    "ax3_xmin, ax3_xmax = 0, 365\n",
    "ax3_ymin, ax3_ymax = 0, 150\n",
    "ax3.set_xlim(xmin=ax3_xmin,xmax=ax3_xmax) #x軸の範囲を指定\n",
    "ax3.set_ylim(ymin=ax3_ymin,ymax=ax3_ymax) #y軸の範囲を指定\n",
    "ax3.set(xlabel = 'Operation Time[Day]') #x軸のラベル\n",
    "ax3.set(ylabel = 'MCH at Storage Base[GWh]') #y軸のラベル\n",
    "ax3.plot(daylist,base_data,label = 'BASE OPERATION', linewidth=3)\n",
    "\n",
    "# for j in range(len(TPGship_data)):\n",
    "for j in tqdm(range(len(TPGship_data))):\n",
    "    line1 = ax1.vlines(daylist[j], ax1_ymin, ax1_ymax, color='red')\n",
    "    line2 = ax2.vlines(daylist[j], ax2_ymin, ax2_ymax, color='red')\n",
    "    line3 = ax3.vlines(daylist[j], ax3_ymin, ax3_ymax, color='red')\n",
    "    plt.savefig(\"png_Folder3/draw\" + str(j) + \".png\")\n",
    "    line1.remove()\n",
    "    line2.remove()\n",
    "    line3.remove()"
   ]
  }
 ],
 "metadata": {
  "kernelspec": {
   "display_name": "Python 3 (ipykernel)",
   "language": "python",
   "name": "python3"
  },
  "language_info": {
   "codemirror_mode": {
    "name": "ipython",
    "version": 3
   },
   "file_extension": ".py",
   "mimetype": "text/x-python",
   "name": "python",
   "nbconvert_exporter": "python",
   "pygments_lexer": "ipython3",
   "version": "3.11.7"
  },
  "vscode": {
   "interpreter": {
    "hash": "e7370f93d1d0cde622a1f8e1c04877d8463912d04d973331ad4851f04de6915a"
   }
  }
 },
 "nbformat": 4,
 "nbformat_minor": 5
}
