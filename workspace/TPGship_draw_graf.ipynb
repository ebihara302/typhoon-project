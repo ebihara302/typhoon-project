{
 "cells": [
  {
   "cell_type": "markdown",
   "id": "fc2ff88c",
   "metadata": {},
   "source": [
    "# TPGshipのシミュレーション動画作成プログラム（2/4）\n",
    "\n",
    "## 動作時のグラフ図作成編"
   ]
  },
  {
   "cell_type": "markdown",
   "id": "87bd9cfb",
   "metadata": {},
   "source": [
    "ライブラリ読み込み"
   ]
  },
  {
   "cell_type": "code",
   "execution_count": 5,
   "id": "0d09a781",
   "metadata": {},
   "outputs": [],
   "source": [
    "import cartopy.crs as ccrs\n",
    "import os\n",
    "import matplotlib.pyplot as plt\n",
    "from matplotlib import gridspec\n",
    "import scienceplots\n",
    "import polars as pl\n",
    "import numpy as np\n",
    "import math\n",
    "from numpy import linalg as LA\n",
    "import cartopy.feature as cfeature\n",
    "from PIL import Image\n",
    "import matplotlib.patches as patches\n",
    "from datetime import datetime, timedelta, timezone\n",
    "from dateutil import tz\n"
   ]
  },
  {
   "cell_type": "markdown",
   "id": "af970f14",
   "metadata": {},
   "source": [
    "データファイル読み取り\n",
    "\n",
    "台風＆TPGship経路データ"
   ]
  },
  {
   "cell_type": "code",
   "execution_count": 6,
   "id": "77014ee2",
   "metadata": {},
   "outputs": [],
   "source": [
    "year = 2018\n",
    "\n",
    "TPGship_data = pl.read_csv(\"output_Folder/TPGshipdata/\" + str(year) + \"_sim_operation_data+wind.csv\")\n",
    "\n",
    "typhoon_data = pl.read_csv(\"typhoon_data_6hour_intervals_verpl/table\" + str(year) + \"_6_interval.csv\",encoding=\"shift-jis\")"
   ]
  },
  {
   "cell_type": "markdown",
   "id": "1bf2149d",
   "metadata": {},
   "source": [
    "拠点と運搬船"
   ]
  },
  {
   "cell_type": "code",
   "execution_count": 7,
   "id": "722f4a1f",
   "metadata": {},
   "outputs": [],
   "source": [
    "stBASE_data = pl.read_csv(\"output_Folder/storageBASEdata/\" + str(year) + \"storageBASE.csv\")\n",
    "#spSHIP1_data = pl.read_csv(\"output_Folder/supportSHIPdata/\" + str(year) + \"supportSHIP1.csv\")\n",
    "#spSHIP2_data = pl.read_csv(\"output_Folder/supportSHIPdata/\" + str(year) + \"supportSHIP2.csv\") "
   ]
  },
  {
   "cell_type": "markdown",
   "id": "901fb87a",
   "metadata": {},
   "source": [
    "TPGshipの動作時のグラフ画像化"
   ]
  },
  {
   "cell_type": "code",
   "execution_count": 8,
   "id": "bd558472",
   "metadata": {},
   "outputs": [],
   "source": [
    "import os\n",
    "\n",
    "\n",
    "UTC = timezone(timedelta(hours =+ 0),\"UTC\")\n",
    "\n",
    "# グラフ保存用のフォルダがなければ作成\n",
    "os.makedirs(\"png_Folder3\", exist_ok=True)\n",
    "\n",
    "#データの整理\n",
    "totalgene = TPGship_data[\"YEARLY POWER GENERATION BALANCE\"]\n",
    "tg = []\n",
    "for i in range(len(totalgene)):\n",
    "    tg.append(totalgene[i]/10**9)\n",
    "\n",
    "onboardene = TPGship_data[\"ONBOARD ENERGY STORAGE[Wh]\"]\n",
    "obe = []\n",
    "for i in range(len(onboardene)):\n",
    "    obe.append(onboardene[i]/10**9)\n",
    "\n",
    "basestorage = stBASE_data[\"STORAGE[Wh]\"]\n",
    "base_data = []\n",
    "for i in range(len(basestorage)):\n",
    "    base_data.append(basestorage[i]/10**9)\n",
    "\n",
    "day = TPGship_data[\"unixtime\"]\n",
    "daylist = []\n",
    "for i in range(len(day)):\n",
    "    daylist.append((day[i]-day[0])/86400)\n",
    "\n",
    "for j in range(len(TPGship_data)):\n",
    "#for j in range(3):\n",
    "#    j_ori = j\n",
    "#    j = j + 1320\n",
    "    #地図の作成\n",
    "    fig = plt.figure(figsize=(10,16)) # プロット領域の作成（matplotlib）\n",
    "    ncols = 3\n",
    "    nrows = 1\n",
    "\n",
    "    #グラフの表示\n",
    "    #今回は'science'と'ieee'を利用してみる\n",
    "    plt.style.use(['science','ieee','high-vis','grid'])\n",
    "    plt.rcParams[\"font.size\"] = 20\n",
    "\n",
    "    day_x = daylist[0:j]\n",
    "    obe_y = obe[0:j]\n",
    "    tg_y = tg[0:j]\n",
    "    base_data_y = base_data[0:j]\n",
    "\n",
    "    ax1 =  fig.add_subplot(3,1,1)\n",
    "    ax1.set_xlim(xmin=0,xmax=365) #x軸の範囲を指定\n",
    "    ax1.set_ylim(ymin=0,ymax=75) #y軸の範囲を指定\n",
    "    ax1.plot(day_x,obe_y,label = 'ONBOARD', linewidth=3)\n",
    "    ax1.set(xlabel = 'Operation Time[Day]') #x軸のラベル\n",
    "    ax1.set(ylabel = 'Onboard Power Storage[GWh]') #y軸のラベル\n",
    "    #ax1.tick_params(labelsize=18)\n",
    "    \n",
    "    ax2 =  fig.add_subplot(3,1,3)\n",
    "    ax2.set_xlim(xmin=0,xmax=365) #x軸の範囲を指定\n",
    "    ax2.set_ylim(ymin=0,ymax=350) #y軸の範囲を指定\n",
    "    ax2.plot(day_x,tg_y,label = 'TOTAL', linewidth=3)\n",
    "    ax2.set(xlabel = 'Operation Time[Day]') #x軸のラベル\n",
    "    ax2.set(ylabel = 'Power Generation[GWh]') #y軸のラベル\n",
    "    #plt.tick_params(labelsize=18)\n",
    "\n",
    "    ax3 =  fig.add_subplot(3,1,2)\n",
    "    ax3.set_xlim(xmin=0,xmax=365) #x軸の範囲を指定\n",
    "    ax3.set_ylim(ymin=0,ymax=100) #y軸の範囲を指定\n",
    "    ax3.plot(day_x,base_data_y,label = 'BASE OPERATION', linewidth=3)\n",
    "    ax3.set(xlabel = 'Operation Time[Day]') #x軸のラベル\n",
    "    ax3.set(ylabel = 'Electric at Storage Base[GWh]') #y軸のラベル\n",
    "\n",
    "    #j = j_ori\n",
    "    \n",
    "    plt.savefig(\"png_Folder3/draw\" + str(j) + \".png\")\n",
    "    plt.close(fig)\n",
    "    \n",
    "    "
   ]
  }
 ],
 "metadata": {
  "kernelspec": {
   "display_name": "Python 3 (ipykernel)",
   "language": "python",
   "name": "python3"
  },
  "language_info": {
   "codemirror_mode": {
    "name": "ipython",
    "version": 3
   },
   "file_extension": ".py",
   "mimetype": "text/x-python",
   "name": "python",
   "nbconvert_exporter": "python",
   "pygments_lexer": "ipython3",
   "version": "3.10.12"
  },
  "vscode": {
   "interpreter": {
    "hash": "e7370f93d1d0cde622a1f8e1c04877d8463912d04d973331ad4851f04de6915a"
   }
  }
 },
 "nbformat": 4,
 "nbformat_minor": 5
}
