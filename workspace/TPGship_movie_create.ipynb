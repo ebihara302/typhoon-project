{
 "cells": [
  {
   "cell_type": "markdown",
   "id": "fc2ff88c",
   "metadata": {},
   "source": [
    "TPGshipのシミュレーション動画作成プログラム"
   ]
  },
  {
   "cell_type": "markdown",
   "id": "87bd9cfb",
   "metadata": {},
   "source": [
    "ライブラリ読み込み"
   ]
  },
  {
   "cell_type": "code",
   "execution_count": 1,
   "id": "0d09a781",
   "metadata": {},
   "outputs": [],
   "source": [
    "import cartopy.crs as ccrs\n",
    "import matplotlib.pyplot as plt\n",
    "import polars as pl\n",
    "import numpy as np\n",
    "import math\n",
    "from numpy import linalg as LA\n",
    "import cartopy.feature as cfeature\n",
    "from PIL import Image\n",
    "import matplotlib.patches as patches\n",
    "from datetime import datetime, timedelta, timezone\n",
    "from dateutil import tz\n"
   ]
  },
  {
   "cell_type": "markdown",
   "id": "af970f14",
   "metadata": {},
   "source": [
    "データファイル読み取り\n",
    "\n",
    "台風＆TPGship経路データ"
   ]
  },
  {
   "cell_type": "code",
   "execution_count": 2,
   "id": "77014ee2",
   "metadata": {},
   "outputs": [],
   "source": [
    "year = 2018\n",
    "\n",
    "ship_typhoon_route_data = pl.read_csv(str(year) + \"_sim_ver4.csv\",encoding=\"shift-jis\")\n",
    "\n",
    "typhoon_data = pl.read_csv(\"typhoon_data_6hour_intervals_verpl/table\" + str(year) + \"_6_interval.csv\",encoding=\"shift-jis\")"
   ]
  },
  {
   "cell_type": "markdown",
   "id": "901fb87a",
   "metadata": {},
   "source": [
    "TPGshipの動作画像化"
   ]
  },
  {
   "cell_type": "code",
   "execution_count": null,
   "id": "d4893ed7",
   "metadata": {},
   "outputs": [],
   "source": [
    "UTC = timezone(timedelta(hours =+ 0),\"UTC\")\n",
    "\n",
    "for j in range(len(ship_typhoon_route_data)):\n",
    "#for j in range(3):\n",
    "    #j_ori = j\n",
    "    #j = j + 342\n",
    "    #地図の作成\n",
    "    fig = plt.figure(figsize=(12,16)) # プロット領域の作成（matplotlib）\n",
    "    ax = fig.add_subplot(1, 1, 1, projection=ccrs.PlateCarree()) # サブプロット作成時にcartopy呼び出し\n",
    "\n",
    "    ax.set_facecolor('paleturquoise')\n",
    "    land_h = cfeature.NaturalEarthFeature('physical', 'land', '50m')\n",
    "    ax.add_feature(land_h,color='g')\n",
    "    ax.set_extent([120, 180, 0, 70], ccrs.Geodetic())\n",
    "\n",
    "    \n",
    "\n",
    "    #拠点&待機位置\n",
    "    base_lat = 24\n",
    "    base_lon = 153\n",
    "    ax.plot(base_lon,base_lat,'crimson',markersize=15,marker=\"d\")\n",
    "\n",
    "\n",
    "    #陸地境界の設定\n",
    "    #nonaggression_line_lat = [0,13,13,15,15,24,24,26,26,28,28,32.2,32.2,34,34,41.2,41.2,44,44,50,50]\n",
    "    #nonaggression_line_lon = [127.5,127.5,125,125,123,123,126,126,130.1,130.1,132.4,132.4,137.2,137.2,143,143,149,149,156,156,180]\n",
    "    #for i in range(len(nonaggression_line_lat)-1):\n",
    "    #    ax.plot([nonaggression_line_lon[i],nonaggression_line_lon[i+1]],[nonaggression_line_lat[i],nonaggression_line_lat[i+1]],'red',linewidth=4)\n",
    "\n",
    "    #台風の作成 \n",
    "    unixtime = ship_typhoon_route_data[j,\"unixtime\"]\n",
    "    \n",
    "    TYdata = typhoon_data.filter((pl.col(\"unixtime\") == unixtime))\n",
    "    typhoon_lon = TYdata[:][\"LON\"]\n",
    "    typhoon_lat = TYdata[:][\"LAT\"]\n",
    "    if len(typhoon_lon) != 0:\n",
    "        for k in range(len(typhoon_lon)):\n",
    "            ax.plot(typhoon_lon[k],typhoon_lat[k],'grey',markersize=50,marker=\"o\",alpha=0.8)\n",
    "\n",
    "\n",
    "    #凡例の作成\n",
    "    view_lon = 170\n",
    "    text_lon = 173\n",
    "    d_view_lat = 3\n",
    "    view_ship_lon = 150\n",
    "    view_ship_lat = 60\n",
    "    view_lat_1 = 58\n",
    "    lon_width = 2\n",
    "\n",
    "    ship_text_lon = 154\n",
    "    ship_text_lat = 63.5\n",
    "\n",
    "    #目標名の設定\n",
    "    target = ship_typhoon_route_data[j,\"TARGET LOCATION\"]\n",
    "    if ship_typhoon_route_data[j,\"TARGET TYPHOON\"] != 0:\n",
    "        target = \"Typhoon \" + str(target)\n",
    "    else:\n",
    "        target = str(target)\n",
    "    \n",
    "    #船速取得\n",
    "    speed = str(format(ship_typhoon_route_data[j,\"SHIP SPEED[kt]\"], '.1f'))\n",
    "\n",
    "    #状態表示　移動・発電・待機\n",
    "    if (ship_typhoon_route_data[j,\"SHIP SPEED[kt]\"] == 0)&(ship_typhoon_route_data[j,\"TIMESTEP POWER GENERATION[Wh]\"] == 0) & (ship_typhoon_route_data[j,\"TIMESTEP POWER CONSUMPTION[Wh]\"] == 0):\n",
    "        state = \"Standby\"\n",
    "        iro = \"lime\"\n",
    "    elif ship_typhoon_route_data[j,\"TIMESTEP POWER GENERATION[Wh]\"] > 0:\n",
    "        state = \"Power Generation\"\n",
    "        speed = speed + \"(prov)\"\n",
    "        iro = \"yellow\"\n",
    "    elif (ship_typhoon_route_data[j,\"TIMESTEP POWER CONSUMPTION[Wh]\"] > 0) or (ship_typhoon_route_data[j,\"SHIP SPEED[kt]\"] > 0):\n",
    "        state = \"Moving\"\n",
    "        iro = \"red\"\n",
    "    \n",
    "    else:\n",
    "        print(\"Error\")\n",
    "\n",
    "    #船内蓄電量\n",
    "    storage_per = str(format(ship_typhoon_route_data[j,\"ONBOARD POWER STORAGE PER[%]\"], '.1f'))\n",
    "\n",
    "    #TPGship関連情報表示\n",
    "    r = patches.Rectangle(xy=(145, 58), width=40, height=13, ec='k', fc='w',zorder=3)\n",
    "    ax.add_patch(r)\n",
    "    \n",
    "\n",
    "    ax.quiver(view_ship_lon, view_ship_lat, 0, 55, color=iro, edgecolor=\"k\", linewidth = 1.0, headwidth=30, headlength=50 , headaxislength=50, width=.02, scale=400.,zorder=4)\n",
    "    ax.text(ship_text_lon, ship_text_lat+5.2, \"TPGship prototype\", size=25, color=\"black\",zorder=4)\n",
    "    ax.text(ship_text_lon, ship_text_lat+2.5, \"Target          : \"+target, size=18, color=\"black\",zorder=4)\n",
    "    ax.text(ship_text_lon, ship_text_lat-0.0, \"States          : \"+state, size=18, color=\"black\",zorder=4)\n",
    "    ax.text(ship_text_lon, ship_text_lat-2.5, \"Speed[kt]    : \"+speed, size=18, color=\"black\",zorder=4)\n",
    "    ax.text(ship_text_lon, ship_text_lat-5.0, \"Storage[%]  : \"+storage_per, size=18, color=\"black\",zorder=4)\n",
    "\n",
    "\n",
    "    #日数記録\n",
    "    date = str(datetime.fromtimestamp(unixtime,UTC))\n",
    "    r = patches.Rectangle(xy=(145, 54), width=24, height=4, ec='k', fc='w',zorder=3)\n",
    "    ax.add_patch(r)\n",
    "    ax.text(145.5, view_lat_1 - 0.8*d_view_lat-0.4, date, size=16.5, color=\"black\",zorder=4)\n",
    "\n",
    "    #拠点と台風の凡例表示\n",
    "    r = patches.Rectangle(xy=(167, 50), width=20, height=8, ec='k', fc='w',zorder=3)\n",
    "    ax.add_patch(r)\n",
    "    \n",
    "    ax.plot(view_lon,view_lat_1 - 0.8*d_view_lat,'crimson',markersize=15,marker=\"d\",zorder=4)\n",
    "    ax.text(text_lon, view_lat_1 - 0.8*d_view_lat-0.5, \"Base\", size=15, color=\"black\",zorder=4)\n",
    "\n",
    "    ax.plot(view_lon,view_lat_1 - 2*d_view_lat,'grey',markersize=30,marker=\"o\",zorder=4)\n",
    "    ax.text(text_lon, view_lat_1 - 2*d_view_lat-0.5, \"Typhoon\", size=15, color=\"black\",zorder=4)\n",
    "\n",
    "\n",
    "\n",
    "    #船の作図\n",
    "    ship_lat = ship_typhoon_route_data[j,\"TPGSHIP LAT\"]\n",
    "    ship_lon = ship_typhoon_route_data[j,\"TPGSHIP LON\"]\n",
    "    if j == 0:\n",
    "        u = 0\n",
    "        v = 1\n",
    "    else:\n",
    "        ship_lat_2 = ship_typhoon_route_data[j-1,\"TPGSHIP LAT\"]\n",
    "        ship_lon_2 = ship_typhoon_route_data[j-1,\"TPGSHIP LON\"]\n",
    "        u = (ship_lon - ship_lon_2)\n",
    "        v = (ship_lat - ship_lat_2)\n",
    "        if (u == 0) & (v == 0):\n",
    "            u = 0\n",
    "            v = 1\n",
    "\n",
    "\n",
    "    size = 10\n",
    "    \n",
    "    vec_size = (np.sqrt(u**2 + v**2))\n",
    "    ax.quiver(ship_lon, ship_lat, u/vec_size*size, v/vec_size*size, color=iro, edgecolor=\"k\", linewidth = 0.25, headlength=6 , headaxislength=6, width=.004, scale=400.,zorder=5)\n",
    "    \n",
    "\n",
    "    #j = j_ori\n",
    "\n",
    "    plt.savefig(\"png_Folder_ver4/draw\" + str(j) + \".png\")\n",
    "\n",
    "    im = Image.open(\"png_Folder_ver4/draw\" + str(j) + \".png\")\n",
    "\n",
    "    im_crop = im.crop((110, 180, 780, 980))\n",
    "    im_crop.save(\"png_Folder_ver4/draw\" + str(j) + \".png\", quality=100)\n"
   ]
  },
  {
   "cell_type": "code",
   "execution_count": 3,
   "id": "bd558472",
   "metadata": {},
   "outputs": [
    {
     "name": "stdout",
     "output_type": "stream",
     "text": [
      "1461\n"
     ]
    }
   ],
   "source": [
    "print(len(ship_typhoon_route_data))"
   ]
  },
  {
   "cell_type": "markdown",
   "id": "cb0cc950",
   "metadata": {},
   "source": [
    "動画化"
   ]
  },
  {
   "cell_type": "code",
   "execution_count": 3,
   "id": "1e9fe49d",
   "metadata": {},
   "outputs": [
    {
     "name": "stdout",
     "output_type": "stream",
     "text": [
      "written\n"
     ]
    }
   ],
   "source": [
    "import cv2\n",
    "import sys\n",
    "# encoder(for mp4)\n",
    "fourcc = cv2.VideoWriter_fourcc(*'mp4v')\n",
    "# output file name, encoder, fps, size(fit to image size)\n",
    "video = cv2.VideoWriter(str(year) + '_map_data_ver4_32.mp4',fourcc, 32.0, (670, 800))#サイズ揃える\n",
    "\n",
    "if not video.isOpened():\n",
    "    print(\"can't be opened\")\n",
    "    sys.exit()\n",
    "\n",
    "for i in range(len(ship_typhoon_route_data)):\n",
    "    img = cv2.imread('png_Folder_ver4/draw'+str(i)+'.png')\n",
    "\n",
    "\n",
    "    # can't read image, escape\n",
    "    if img is None:\n",
    "        print(\"can't read\")\n",
    "        break\n",
    "    \n",
    "\n",
    "    # add\n",
    "    video.write(img)\n",
    "\n",
    "video.release()\n",
    "print('written')"
   ]
  }
 ],
 "metadata": {
  "kernelspec": {
   "display_name": "Python 3 (ipykernel)",
   "language": "python",
   "name": "python3"
  },
  "language_info": {
   "codemirror_mode": {
    "name": "ipython",
    "version": 3
   },
   "file_extension": ".py",
   "mimetype": "text/x-python",
   "name": "python",
   "nbconvert_exporter": "python",
   "pygments_lexer": "ipython3",
   "version": "3.10.12"
  },
  "vscode": {
   "interpreter": {
    "hash": "e7370f93d1d0cde622a1f8e1c04877d8463912d04d973331ad4851f04de6915a"
   }
  }
 },
 "nbformat": 4,
 "nbformat_minor": 5
}
