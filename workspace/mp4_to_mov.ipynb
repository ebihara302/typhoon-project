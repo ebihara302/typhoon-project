{
 "cells": [
  {
   "cell_type": "markdown",
   "id": "fc2ff88c",
   "metadata": {},
   "source": [
    "# TPGshipのシミュレーション動画作成プログラム（5/4）\n",
    "\n",
    "## 共有するために必要な場合の動画形式変換プログラム"
   ]
  },
  {
   "cell_type": "markdown",
   "id": "4ab4ede6",
   "metadata": {},
   "source": [
    "本プログラムはローカル環境で動かすことになると想定されます。使用しているPCにffmpegというソフトをインストールした上で本プログラムを動作させる必要があるのでご注意ください。"
   ]
  },
  {
   "cell_type": "code",
   "execution_count": 1,
   "id": "a0670abd",
   "metadata": {},
   "outputs": [
    {
     "name": "stdout",
     "output_type": "stream",
     "text": [
      "Collecting ffmpeg-python\n",
      "  Downloading ffmpeg_python-0.2.0-py3-none-any.whl.metadata (1.7 kB)\n",
      "Requirement already satisfied: future in /opt/conda/lib/python3.11/site-packages (from ffmpeg-python) (0.18.3)\n",
      "Downloading ffmpeg_python-0.2.0-py3-none-any.whl (25 kB)\n",
      "Installing collected packages: ffmpeg-python\n",
      "Successfully installed ffmpeg-python-0.2.0\n",
      "Note: you may need to restart the kernel to use updated packages.\n"
     ]
    }
   ],
   "source": [
    "pip install ffmpeg-python"
   ]
  },
  {
   "cell_type": "markdown",
   "id": "87bd9cfb",
   "metadata": {},
   "source": [
    "ライブラリ読み込み"
   ]
  },
  {
   "cell_type": "code",
   "execution_count": null,
   "id": "abb143d5",
   "metadata": {},
   "outputs": [],
   "source": [
    "import ffmpeg\n",
    "\n",
    "def convert_mp4_to_mov(input_file, output_file):\n",
    "    # FFmpegを使用してMP4ファイルをMOV形式に変換する\n",
    "    ffmpeg.input(input_file).output(output_file, format='mov').run()\n",
    "    \n",
    "if __name__ == \"__main__\":\n",
    "    input_file = 'output_Folder/output_video.mp4'  # 入力ファイルのパス（output_video.mp4）\n",
    "    output_file = 'output_Folder/output_video.mov'  # 出力ファイルのパス（output_video.mov）\n",
    "\n",
    "    convert_mp4_to_mov(input_file, output_file)\n"
   ]
  }
 ],
 "metadata": {
  "kernelspec": {
   "display_name": "Python 3 (ipykernel)",
   "language": "python",
   "name": "python3"
  },
  "language_info": {
   "codemirror_mode": {
    "name": "ipython",
    "version": 3
   },
   "file_extension": ".py",
   "mimetype": "text/x-python",
   "name": "python",
   "nbconvert_exporter": "python",
   "pygments_lexer": "ipython3",
   "version": "3.11.7"
  },
  "vscode": {
   "interpreter": {
    "hash": "e7370f93d1d0cde622a1f8e1c04877d8463912d04d973331ad4851f04de6915a"
   }
  }
 },
 "nbformat": 4,
 "nbformat_minor": 5
}
